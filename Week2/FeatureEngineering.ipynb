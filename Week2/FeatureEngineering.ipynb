{
  "nbformat": 4,
  "nbformat_minor": 0,
  "metadata": {
    "colab": {
      "provenance": []
    },
    "kernelspec": {
      "name": "python3",
      "display_name": "Python 3"
    },
    "language_info": {
      "name": "python"
    }
  },
  "cells": [
    {
      "cell_type": "code",
      "execution_count": 4,
      "metadata": {
        "colab": {
          "base_uri": "https://localhost:8080/"
        },
        "id": "KDXACcb8iOcV",
        "outputId": "15194bc8-3dd5-46b5-a831-ac0946e8644e"
      },
      "outputs": [
        {
          "output_type": "stream",
          "name": "stdout",
          "text": [
            "   count_point_id direction_of_travel  year count_date  hour  region_id  \\\n",
            "0              52                   E  2019 2019-09-06    17          1   \n",
            "1              52                   E  2019 2019-09-06    12          1   \n",
            "2              52                   E  2019 2019-09-06    14          1   \n",
            "3              52                   W  2019 2019-09-06    14          1   \n",
            "4              52                   W  2019 2019-09-06    12          1   \n",
            "\n",
            "  region_name  local_authority_id local_authority_name road_name  ...  \\\n",
            "0  South West                   1      Isles of Scilly     A3112  ...   \n",
            "1  South West                   1      Isles of Scilly     A3112  ...   \n",
            "2  South West                   1      Isles of Scilly     A3112  ...   \n",
            "3  South West                   1      Isles of Scilly     A3112  ...   \n",
            "4  South West                   1      Isles of Scilly     A3112  ...   \n",
            "\n",
            "  day_of_week month is_weekend   hour_bin  total_vehicles  total_cycles  \\\n",
            "0           4     9          0  Afternoon              25             6   \n",
            "1           4     9          0  Afternoon              37             9   \n",
            "2           4     9          0  Afternoon              27             7   \n",
            "3           4     9          0  Afternoon              33             3   \n",
            "4           4     9          0  Afternoon              29             3   \n",
            "\n",
            "   vehicle_density_km  hgv_dominant  mean_vehicles_by_direction  lat_lon_delta  \n",
            "0                12.5             0                  598.200000       3.347628  \n",
            "1                18.5             0                  598.200000       3.347628  \n",
            "2                13.5             0                  598.200000       3.347628  \n",
            "3                16.5             0                  779.066667       3.347628  \n",
            "4                14.5             0                  779.066667       3.347628  \n",
            "\n",
            "[5 rows x 42 columns]\n"
          ]
        }
      ],
      "source": [
        "import pandas as pd\n",
        "import numpy as np\n",
        "\n",
        "data = pd.read_csv(\"/content/data.csv\")\n",
        "\n",
        "data['count_date'] = pd.to_datetime(data['count_date'])\n",
        "\n",
        "# Time-based features\n",
        "data['day_of_week'] = data['count_date'].dt.dayofweek\n",
        "data['month'] = data['count_date'].dt.month\n",
        "data['is_weekend'] = data['day_of_week'].isin([5, 6]).astype(int)  # 1 if weekend, else 0\n",
        "data['hour_bin'] = pd.cut(data['hour'], bins=[0, 6, 12, 18, 24], labels=['Night', 'Morning', 'Afternoon', 'Evening'], right=False)\n",
        "\n",
        "# Total vehicles and total cycles\n",
        "data['total_vehicles'] = data[['two_wheeled_motor_vehicles', 'cars_and_taxis', 'buses_and_coaches', 'lgvs', 'all_hgvs']].sum(axis=1)\n",
        "data['total_cycles'] = data['pedal_cycles']\n",
        "\n",
        "# Vehicle density (vehicles per km)\n",
        "data['vehicle_density_km'] = data['total_vehicles'] / data['link_length_km']\n",
        "\n",
        "# Flag for heavy goods vehicle (HGV) dominance\n",
        "data['hgv_dominant'] = (data['all_hgvs'] / data['total_vehicles'] > 0.5).astype(int)\n",
        "\n",
        "# Regions by direction of travel and calculate mean vehicles\n",
        "region_group = data.groupby(['region_name', 'direction_of_travel'])['total_vehicles'].mean().reset_index(name='mean_vehicles_by_direction')\n",
        "\n",
        "# Region stats back to the original data\n",
        "data = pd.merge(data, region_group, on=['region_name', 'direction_of_travel'], how='left')\n",
        "\n",
        "# Longitude and latitude deltas (feature for spatial analysis)\n",
        "data['lat_lon_delta'] = np.sqrt((data['latitude'] - data['latitude'].mean())**2 + (data['longitude'] - data['longitude'].mean())**2)\n",
        "\n",
        "data.to_csv(\"transformed_data.csv\", index=False)\n",
        "\n",
        "print(data.head())"
      ]
    }
  ]
}
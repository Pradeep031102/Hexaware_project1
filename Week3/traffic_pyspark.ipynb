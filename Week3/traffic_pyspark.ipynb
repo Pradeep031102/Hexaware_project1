{
  "nbformat": 4,
  "nbformat_minor": 0,
  "metadata": {
    "colab": {
      "provenance": []
    },
    "kernelspec": {
      "name": "python3",
      "display_name": "Python 3"
    },
    "language_info": {
      "name": "python"
    }
  },
  "cells": [
    {
      "cell_type": "code",
      "execution_count": 1,
      "metadata": {
        "colab": {
          "base_uri": "https://localhost:8080/"
        },
        "id": "SqspCWQUI-ob",
        "outputId": "b8f8ea73-6f7e-4396-ebd7-ce413423a0f1"
      },
      "outputs": [
        {
          "output_type": "stream",
          "name": "stdout",
          "text": [
            "Collecting pyspark==3.2.2\n",
            "  Downloading pyspark-3.2.2.tar.gz (281.5 MB)\n",
            "\u001b[2K     \u001b[90m━━━━━━━━━━━━━━━━━━━━━━━━━━━━━━━━━━━━━━━━\u001b[0m \u001b[32m281.5/281.5 MB\u001b[0m \u001b[31m4.1 MB/s\u001b[0m eta \u001b[36m0:00:00\u001b[0m\n",
            "\u001b[?25h  Preparing metadata (setup.py) ... \u001b[?25l\u001b[?25hdone\n",
            "Collecting py4j==0.10.9.5 (from pyspark==3.2.2)\n",
            "  Downloading py4j-0.10.9.5-py2.py3-none-any.whl.metadata (1.5 kB)\n",
            "Downloading py4j-0.10.9.5-py2.py3-none-any.whl (199 kB)\n",
            "\u001b[2K   \u001b[90m━━━━━━━━━━━━━━━━━━━━━━━━━━━━━━━━━━━━━━━━\u001b[0m \u001b[32m199.7/199.7 kB\u001b[0m \u001b[31m15.8 MB/s\u001b[0m eta \u001b[36m0:00:00\u001b[0m\n",
            "\u001b[?25hBuilding wheels for collected packages: pyspark\n",
            "  Building wheel for pyspark (setup.py) ... \u001b[?25l\u001b[?25hdone\n",
            "  Created wheel for pyspark: filename=pyspark-3.2.2-py2.py3-none-any.whl size=281969432 sha256=13eacd275f566398c68927d5bc84b252116bf88aae5f98e55997d556426872e5\n",
            "  Stored in directory: /root/.cache/pip/wheels/99/2c/e7/e06690607c5342affbc132b79732a3a321c83eec58d5617c38\n",
            "Successfully built pyspark\n",
            "Installing collected packages: py4j, pyspark\n",
            "  Attempting uninstall: py4j\n",
            "    Found existing installation: py4j 0.10.9.7\n",
            "    Uninstalling py4j-0.10.9.7:\n",
            "      Successfully uninstalled py4j-0.10.9.7\n",
            "Successfully installed py4j-0.10.9.5 pyspark-3.2.2\n",
            "Collecting delta-spark\n",
            "  Downloading delta_spark-3.2.1-py3-none-any.whl.metadata (1.9 kB)\n",
            "Collecting pyspark<3.6.0,>=3.5.3 (from delta-spark)\n",
            "  Downloading pyspark-3.5.3.tar.gz (317.3 MB)\n",
            "\u001b[2K     \u001b[90m━━━━━━━━━━━━━━━━━━━━━━━━━━━━━━━━━━━━━━━━\u001b[0m \u001b[32m317.3/317.3 MB\u001b[0m \u001b[31m5.2 MB/s\u001b[0m eta \u001b[36m0:00:00\u001b[0m\n",
            "\u001b[?25h  Preparing metadata (setup.py) ... \u001b[?25l\u001b[?25hdone\n",
            "Requirement already satisfied: importlib-metadata>=1.0.0 in /usr/local/lib/python3.10/dist-packages (from delta-spark) (8.5.0)\n",
            "Requirement already satisfied: zipp>=3.20 in /usr/local/lib/python3.10/dist-packages (from importlib-metadata>=1.0.0->delta-spark) (3.20.2)\n",
            "Collecting py4j==0.10.9.7 (from pyspark<3.6.0,>=3.5.3->delta-spark)\n",
            "  Using cached py4j-0.10.9.7-py2.py3-none-any.whl.metadata (1.5 kB)\n",
            "Downloading delta_spark-3.2.1-py3-none-any.whl (21 kB)\n",
            "Using cached py4j-0.10.9.7-py2.py3-none-any.whl (200 kB)\n",
            "Building wheels for collected packages: pyspark\n",
            "  Building wheel for pyspark (setup.py) ... \u001b[?25l\u001b[?25hdone\n",
            "  Created wheel for pyspark: filename=pyspark-3.5.3-py2.py3-none-any.whl size=317840625 sha256=27fbbb1baaac9509e30f63890610a19ce2eb34d54b7e63539f111d8adb54f16a\n",
            "  Stored in directory: /root/.cache/pip/wheels/1b/3a/92/28b93e2fbfdbb07509ca4d6f50c5e407f48dce4ddbda69a4ab\n",
            "Successfully built pyspark\n",
            "Installing collected packages: py4j, pyspark, delta-spark\n",
            "  Attempting uninstall: py4j\n",
            "    Found existing installation: py4j 0.10.9.5\n",
            "    Uninstalling py4j-0.10.9.5:\n",
            "      Successfully uninstalled py4j-0.10.9.5\n",
            "  Attempting uninstall: pyspark\n",
            "    Found existing installation: pyspark 3.2.2\n",
            "    Uninstalling pyspark-3.2.2:\n",
            "      Successfully uninstalled pyspark-3.2.2\n",
            "Successfully installed delta-spark-3.2.1 py4j-0.10.9.7 pyspark-3.5.3\n"
          ]
        }
      ],
      "source": [
        "!pip install pyspark==3.2.2\n",
        "!pip install delta-spark"
      ]
    },
    {
      "cell_type": "code",
      "source": [
        "from pyspark.sql import SparkSession\n",
        "from pyspark.sql.functions import col\n",
        "from delta import *\n",
        "\n",
        "builder = SparkSession.builder.appName(\"TrafficApp\") \\\n",
        "    .config(\"spark.sql.extensions\", \"io.delta.sql.DeltaSparkSessionExtension\") \\\n",
        "    .config(\"spark.sql.catalog.spark_catalog\", \"org.apache.spark.sql.delta.catalog.DeltaCatalog\") \\\n",
        "    .config(\"spark.jars.packages\", \"io.delta:delta-core_2.12:2.0.0\")\n",
        "\n",
        "spark = configure_spark_with_delta_pip(builder).getOrCreate()\n",
        "\n",
        "path = '/content/raw_data'\n",
        "\n",
        "traffic_df = spark.read.csv(path, header=True, inferSchema=True)\n",
        "\n",
        "traffic_df.show()"
      ],
      "metadata": {
        "colab": {
          "base_uri": "https://localhost:8080/"
        },
        "id": "ESJk8am4JmzP",
        "outputId": "8ee2a70e-6bc5-4ed7-8c37-af59d2111223"
      },
      "execution_count": 3,
      "outputs": [
        {
          "output_type": "stream",
          "name": "stdout",
          "text": [
            "+--------------+-------------------+----+----------+----+---------+-----------+------------------+--------------------+---------+---------+------------------------+----------------------+-------+--------+---------+----------+--------------+-----------------+------------+--------------------------+--------------+-----------------+----+-----------------+-----------------+-------------------------+----------------------------+-----------------------+-----------------------+--------+------------------+\n",
            "|count_point_id|direction_of_travel|year|count_date|hour|region_id|region_name|local_authority_id|local_authority_name|road_name|road_type|start_junction_road_name|end_junction_road_name|easting|northing| latitude| longitude|link_length_km|link_length_miles|pedal_cycles|two_wheeled_motor_vehicles|cars_and_taxis|buses_and_coaches|lgvs|hgvs_2_rigid_axle|hgvs_3_rigid_axle|hgvs_4_or_more_rigid_axle|hgvs_3_or_4_articulated_axle|hgvs_5_articulated_axle|hgvs_6_articulated_axle|all_hgvs|all_motor_vehicles|\n",
            "+--------------+-------------------+----+----------+----+---------+-----------+------------------+--------------------+---------+---------+------------------------+----------------------+-------+--------+---------+----------+--------------+-----------------+------------+--------------------------+--------------+-----------------+----+-----------------+-----------------+-------------------------+----------------------------+-----------------------+-----------------------+--------+------------------+\n",
            "|            52|                  E|2019|2019-09-06|  17|        1| South West|                 1|     Isles of Scilly|    A3112|    Major|                   A3111|                 A3110|  91203|   10217|49.912239|-6.3028477|           2.0|             1.24|           6|                         1|            16|                0|   8|                0|                0|                        0|                           0|                      0|                      0|       0|                25|\n",
            "|            52|                  E|2019|2019-09-06|  12|        1| South West|                 1|     Isles of Scilly|    A3112|    Major|                   A3111|                 A3110|  91203|   10217|49.912239|-6.3028477|           2.0|             1.24|           9|                         1|            28|                0|   8|                0|                0|                        0|                           0|                      0|                      0|       0|                37|\n",
            "|            52|                  E|2019|2019-09-06|  14|        1| South West|                 1|     Isles of Scilly|    A3112|    Major|                   A3111|                 A3110|  91203|   10217|49.912239|-6.3028477|           2.0|             1.24|           7|                         0|            18|                0|   9|                0|                0|                        0|                           0|                      0|                      0|       0|                27|\n",
            "|            52|                  W|2019|2019-09-06|  14|        1| South West|                 1|     Isles of Scilly|    A3112|    Major|                   A3111|                 A3110|  91203|   10217|49.912239|-6.3028477|           2.0|             1.24|           3|                         1|            20|                1|  11|                0|                0|                        0|                           0|                      0|                      0|       0|                33|\n",
            "|            52|                  W|2019|2019-09-06|  12|        1| South West|                 1|     Isles of Scilly|    A3112|    Major|                   A3111|                 A3110|  91203|   10217|49.912239|-6.3028477|           2.0|             1.24|           3|                         0|            19|                1|   9|                0|                0|                        0|                           0|                      0|                      0|       0|                29|\n",
            "|            52|                  W|2019|2019-09-06|  17|        1| South West|                 1|     Isles of Scilly|    A3112|    Major|                   A3111|                 A3110|  91203|   10217|49.912239|-6.3028477|           2.0|             1.24|           4|                         2|             8|                1|  12|                0|                0|                        0|                           0|                      0|                      0|       0|                23|\n",
            "|            52|                  W|2019|2019-09-06|  18|        1| South West|                 1|     Isles of Scilly|    A3112|    Major|                   A3111|                 A3110|  91203|   10217|49.912239|-6.3028477|           2.0|             1.24|           4|                         0|            13|                0|   6|                0|                0|                        0|                           0|                      0|                      0|       0|                19|\n",
            "|            52|                  E|2019|2019-09-06|   9|        1| South West|                 1|     Isles of Scilly|    A3112|    Major|                   A3111|                 A3110|  91203|   10217|49.912239|-6.3028477|           2.0|             1.24|           4|                         0|            19|                0|  12|                1|                0|                        0|                           0|                      0|                      0|       1|                32|\n",
            "|            52|                  W|2019|2019-09-06|  10|        1| South West|                 1|     Isles of Scilly|    A3112|    Major|                   A3111|                 A3110|  91203|   10217|49.912239|-6.3028477|           2.0|             1.24|           3|                         1|            24|                1|  12|                0|                0|                        0|                           0|                      0|                      0|       0|                38|\n",
            "|            52|                  E|2019|2019-09-06|   8|        1| South West|                 1|     Isles of Scilly|    A3112|    Major|                   A3111|                 A3110|  91203|   10217|49.912239|-6.3028477|           2.0|             1.24|           4|                         1|             9|                0|   7|                0|                0|                        0|                           0|                      0|                      0|       0|                17|\n",
            "|            52|                  E|2019|2019-09-06|  18|        1| South West|                 1|     Isles of Scilly|    A3112|    Major|                   A3111|                 A3110|  91203|   10217|49.912239|-6.3028477|           2.0|             1.24|           0|                         1|            10|                0|   3|                0|                0|                        0|                           0|                      0|                      0|       0|                14|\n",
            "|            52|                  W|2019|2019-09-06|  15|        1| South West|                 1|     Isles of Scilly|    A3112|    Major|                   A3111|                 A3110|  91203|   10217|49.912239|-6.3028477|           2.0|             1.24|           5|                         1|            27|                1|  22|                0|                0|                        0|                           0|                      0|                      0|       0|                51|\n",
            "|            52|                  E|2019|2019-09-06|  13|        1| South West|                 1|     Isles of Scilly|    A3112|    Major|                   A3111|                 A3110|  91203|   10217|49.912239|-6.3028477|           2.0|             1.24|           8|                         0|            22|                0|   6|                0|                0|                        0|                           0|                      0|                      0|       0|                28|\n",
            "|            52|                  E|2019|2019-09-06|  10|        1| South West|                 1|     Isles of Scilly|    A3112|    Major|                   A3111|                 A3110|  91203|   10217|49.912239|-6.3028477|           2.0|             1.24|           7|                         1|            20|                0|   7|                2|                0|                        0|                           0|                      0|                      0|       2|                30|\n",
            "|            52|                  W|2019|2019-09-06|  16|        1| South West|                 1|     Isles of Scilly|    A3112|    Major|                   A3111|                 A3110|  91203|   10217|49.912239|-6.3028477|           2.0|             1.24|           6|                         2|            17|                1|  16|                0|                0|                        0|                           0|                      0|                      0|       0|                36|\n",
            "|            52|                  E|2019|2019-09-06|  11|        1| South West|                 1|     Isles of Scilly|    A3112|    Major|                   A3111|                 A3110|  91203|   10217|49.912239|-6.3028477|           2.0|             1.24|           8|                         2|            14|                0|   7|                0|                0|                        0|                           0|                      0|                      0|       0|                23|\n",
            "|            52|                  E|2019|2019-09-06|   7|        1| South West|                 1|     Isles of Scilly|    A3112|    Major|                   A3111|                 A3110|  91203|   10217|49.912239|-6.3028477|           2.0|             1.24|           3|                         1|             4|                0|   4|                0|                0|                        0|                           0|                      0|                      0|       0|                 9|\n",
            "|            52|                  W|2019|2019-09-06|   7|        1| South West|                 1|     Isles of Scilly|    A3112|    Major|                   A3111|                 A3110|  91203|   10217|49.912239|-6.3028477|           2.0|             1.24|           4|                         0|            10|                0|   6|                0|                0|                        0|                           0|                      0|                      0|       0|                16|\n",
            "|            52|                  W|2019|2019-09-06|   8|        1| South West|                 1|     Isles of Scilly|    A3112|    Major|                   A3111|                 A3110|  91203|   10217|49.912239|-6.3028477|           2.0|             1.24|          41|                         2|            33|                0|  10|                0|                0|                        0|                           0|                      0|                      0|       0|                45|\n",
            "|            52|                  W|2019|2019-09-06|  13|        1| South West|                 1|     Isles of Scilly|    A3112|    Major|                   A3111|                 A3110|  91203|   10217|49.912239|-6.3028477|           2.0|             1.24|           3|                         0|            15|                0|  11|                1|                0|                        0|                           0|                      0|                      0|       1|                27|\n",
            "+--------------+-------------------+----+----------+----+---------+-----------+------------------+--------------------+---------+---------+------------------------+----------------------+-------+--------+---------+----------+--------------+-----------------+------------+--------------------------+--------------+-----------------+----+-----------------+-----------------+-------------------------+----------------------------+-----------------------+-----------------------+--------+------------------+\n",
            "only showing top 20 rows\n",
            "\n"
          ]
        }
      ]
    },
    {
      "cell_type": "code",
      "source": [
        "# Writing the DataFrame to Parquet format\n",
        "parquet_path = '/content/transformed_data/data.parquet'\n",
        "traffic_df.write.parquet(parquet_path)\n",
        "\n",
        "# Reading the Parquet file back into a DataFrame\n",
        "parquet_df = spark.read.parquet(parquet_path)\n",
        "parquet_df.show()"
      ],
      "metadata": {
        "colab": {
          "base_uri": "https://localhost:8080/"
        },
        "id": "UKf-_74p3gmT",
        "outputId": "3b4f61ff-9bbe-4484-a7c2-3bd731452345"
      },
      "execution_count": 4,
      "outputs": [
        {
          "output_type": "stream",
          "name": "stdout",
          "text": [
            "+--------------+-------------------+----+----------+----+---------+-----------+------------------+--------------------+---------+---------+------------------------+----------------------+-------+--------+---------+----------+--------------+-----------------+------------+--------------------------+--------------+-----------------+----+-----------------+-----------------+-------------------------+----------------------------+-----------------------+-----------------------+--------+------------------+\n",
            "|count_point_id|direction_of_travel|year|count_date|hour|region_id|region_name|local_authority_id|local_authority_name|road_name|road_type|start_junction_road_name|end_junction_road_name|easting|northing| latitude| longitude|link_length_km|link_length_miles|pedal_cycles|two_wheeled_motor_vehicles|cars_and_taxis|buses_and_coaches|lgvs|hgvs_2_rigid_axle|hgvs_3_rigid_axle|hgvs_4_or_more_rigid_axle|hgvs_3_or_4_articulated_axle|hgvs_5_articulated_axle|hgvs_6_articulated_axle|all_hgvs|all_motor_vehicles|\n",
            "+--------------+-------------------+----+----------+----+---------+-----------+------------------+--------------------+---------+---------+------------------------+----------------------+-------+--------+---------+----------+--------------+-----------------+------------+--------------------------+--------------+-----------------+----+-----------------+-----------------+-------------------------+----------------------------+-----------------------+-----------------------+--------+------------------+\n",
            "|            52|                  E|2019|2019-09-06|  17|        1| South West|                 1|     Isles of Scilly|    A3112|    Major|                   A3111|                 A3110|  91203|   10217|49.912239|-6.3028477|           2.0|             1.24|           6|                         1|            16|                0|   8|                0|                0|                        0|                           0|                      0|                      0|       0|                25|\n",
            "|            52|                  E|2019|2019-09-06|  12|        1| South West|                 1|     Isles of Scilly|    A3112|    Major|                   A3111|                 A3110|  91203|   10217|49.912239|-6.3028477|           2.0|             1.24|           9|                         1|            28|                0|   8|                0|                0|                        0|                           0|                      0|                      0|       0|                37|\n",
            "|            52|                  E|2019|2019-09-06|  14|        1| South West|                 1|     Isles of Scilly|    A3112|    Major|                   A3111|                 A3110|  91203|   10217|49.912239|-6.3028477|           2.0|             1.24|           7|                         0|            18|                0|   9|                0|                0|                        0|                           0|                      0|                      0|       0|                27|\n",
            "|            52|                  W|2019|2019-09-06|  14|        1| South West|                 1|     Isles of Scilly|    A3112|    Major|                   A3111|                 A3110|  91203|   10217|49.912239|-6.3028477|           2.0|             1.24|           3|                         1|            20|                1|  11|                0|                0|                        0|                           0|                      0|                      0|       0|                33|\n",
            "|            52|                  W|2019|2019-09-06|  12|        1| South West|                 1|     Isles of Scilly|    A3112|    Major|                   A3111|                 A3110|  91203|   10217|49.912239|-6.3028477|           2.0|             1.24|           3|                         0|            19|                1|   9|                0|                0|                        0|                           0|                      0|                      0|       0|                29|\n",
            "|            52|                  W|2019|2019-09-06|  17|        1| South West|                 1|     Isles of Scilly|    A3112|    Major|                   A3111|                 A3110|  91203|   10217|49.912239|-6.3028477|           2.0|             1.24|           4|                         2|             8|                1|  12|                0|                0|                        0|                           0|                      0|                      0|       0|                23|\n",
            "|            52|                  W|2019|2019-09-06|  18|        1| South West|                 1|     Isles of Scilly|    A3112|    Major|                   A3111|                 A3110|  91203|   10217|49.912239|-6.3028477|           2.0|             1.24|           4|                         0|            13|                0|   6|                0|                0|                        0|                           0|                      0|                      0|       0|                19|\n",
            "|            52|                  E|2019|2019-09-06|   9|        1| South West|                 1|     Isles of Scilly|    A3112|    Major|                   A3111|                 A3110|  91203|   10217|49.912239|-6.3028477|           2.0|             1.24|           4|                         0|            19|                0|  12|                1|                0|                        0|                           0|                      0|                      0|       1|                32|\n",
            "|            52|                  W|2019|2019-09-06|  10|        1| South West|                 1|     Isles of Scilly|    A3112|    Major|                   A3111|                 A3110|  91203|   10217|49.912239|-6.3028477|           2.0|             1.24|           3|                         1|            24|                1|  12|                0|                0|                        0|                           0|                      0|                      0|       0|                38|\n",
            "|            52|                  E|2019|2019-09-06|   8|        1| South West|                 1|     Isles of Scilly|    A3112|    Major|                   A3111|                 A3110|  91203|   10217|49.912239|-6.3028477|           2.0|             1.24|           4|                         1|             9|                0|   7|                0|                0|                        0|                           0|                      0|                      0|       0|                17|\n",
            "|            52|                  E|2019|2019-09-06|  18|        1| South West|                 1|     Isles of Scilly|    A3112|    Major|                   A3111|                 A3110|  91203|   10217|49.912239|-6.3028477|           2.0|             1.24|           0|                         1|            10|                0|   3|                0|                0|                        0|                           0|                      0|                      0|       0|                14|\n",
            "|            52|                  W|2019|2019-09-06|  15|        1| South West|                 1|     Isles of Scilly|    A3112|    Major|                   A3111|                 A3110|  91203|   10217|49.912239|-6.3028477|           2.0|             1.24|           5|                         1|            27|                1|  22|                0|                0|                        0|                           0|                      0|                      0|       0|                51|\n",
            "|            52|                  E|2019|2019-09-06|  13|        1| South West|                 1|     Isles of Scilly|    A3112|    Major|                   A3111|                 A3110|  91203|   10217|49.912239|-6.3028477|           2.0|             1.24|           8|                         0|            22|                0|   6|                0|                0|                        0|                           0|                      0|                      0|       0|                28|\n",
            "|            52|                  E|2019|2019-09-06|  10|        1| South West|                 1|     Isles of Scilly|    A3112|    Major|                   A3111|                 A3110|  91203|   10217|49.912239|-6.3028477|           2.0|             1.24|           7|                         1|            20|                0|   7|                2|                0|                        0|                           0|                      0|                      0|       2|                30|\n",
            "|            52|                  W|2019|2019-09-06|  16|        1| South West|                 1|     Isles of Scilly|    A3112|    Major|                   A3111|                 A3110|  91203|   10217|49.912239|-6.3028477|           2.0|             1.24|           6|                         2|            17|                1|  16|                0|                0|                        0|                           0|                      0|                      0|       0|                36|\n",
            "|            52|                  E|2019|2019-09-06|  11|        1| South West|                 1|     Isles of Scilly|    A3112|    Major|                   A3111|                 A3110|  91203|   10217|49.912239|-6.3028477|           2.0|             1.24|           8|                         2|            14|                0|   7|                0|                0|                        0|                           0|                      0|                      0|       0|                23|\n",
            "|            52|                  E|2019|2019-09-06|   7|        1| South West|                 1|     Isles of Scilly|    A3112|    Major|                   A3111|                 A3110|  91203|   10217|49.912239|-6.3028477|           2.0|             1.24|           3|                         1|             4|                0|   4|                0|                0|                        0|                           0|                      0|                      0|       0|                 9|\n",
            "|            52|                  W|2019|2019-09-06|   7|        1| South West|                 1|     Isles of Scilly|    A3112|    Major|                   A3111|                 A3110|  91203|   10217|49.912239|-6.3028477|           2.0|             1.24|           4|                         0|            10|                0|   6|                0|                0|                        0|                           0|                      0|                      0|       0|                16|\n",
            "|            52|                  W|2019|2019-09-06|   8|        1| South West|                 1|     Isles of Scilly|    A3112|    Major|                   A3111|                 A3110|  91203|   10217|49.912239|-6.3028477|           2.0|             1.24|          41|                         2|            33|                0|  10|                0|                0|                        0|                           0|                      0|                      0|       0|                45|\n",
            "|            52|                  W|2019|2019-09-06|  13|        1| South West|                 1|     Isles of Scilly|    A3112|    Major|                   A3111|                 A3110|  91203|   10217|49.912239|-6.3028477|           2.0|             1.24|           3|                         0|            15|                0|  11|                1|                0|                        0|                           0|                      0|                      0|       1|                27|\n",
            "+--------------+-------------------+----+----------+----+---------+-----------+------------------+--------------------+---------+---------+------------------------+----------------------+-------+--------+---------+----------+--------------+-----------------+------------+--------------------------+--------------+-----------------+----+-----------------+-----------------+-------------------------+----------------------------+-----------------------+-----------------------+--------+------------------+\n",
            "only showing top 20 rows\n",
            "\n"
          ]
        }
      ]
    },
    {
      "cell_type": "code",
      "source": [
        "# Write the DataFrame to Delta format\n",
        "delta_path = '/content/raw_data/data.delta'\n",
        "traffic_df.write.format(\"delta\").save(delta_path)\n",
        "\n",
        "# Read the Delta file back into a DataFrame\n",
        "delta_df = spark.read.format(\"delta\").load(delta_path)\n",
        "delta_df.show()"
      ],
      "metadata": {
        "colab": {
          "base_uri": "https://localhost:8080/"
        },
        "id": "Vp5VSpVM5G5w",
        "outputId": "5fada7fb-f995-40e2-9b3e-7b08425d1474"
      },
      "execution_count": 5,
      "outputs": [
        {
          "output_type": "stream",
          "name": "stdout",
          "text": [
            "+--------------+-------------------+----+----------+----+---------+-----------+------------------+--------------------+---------+---------+------------------------+----------------------+-------+--------+---------+----------+--------------+-----------------+------------+--------------------------+--------------+-----------------+----+-----------------+-----------------+-------------------------+----------------------------+-----------------------+-----------------------+--------+------------------+\n",
            "|count_point_id|direction_of_travel|year|count_date|hour|region_id|region_name|local_authority_id|local_authority_name|road_name|road_type|start_junction_road_name|end_junction_road_name|easting|northing| latitude| longitude|link_length_km|link_length_miles|pedal_cycles|two_wheeled_motor_vehicles|cars_and_taxis|buses_and_coaches|lgvs|hgvs_2_rigid_axle|hgvs_3_rigid_axle|hgvs_4_or_more_rigid_axle|hgvs_3_or_4_articulated_axle|hgvs_5_articulated_axle|hgvs_6_articulated_axle|all_hgvs|all_motor_vehicles|\n",
            "+--------------+-------------------+----+----------+----+---------+-----------+------------------+--------------------+---------+---------+------------------------+----------------------+-------+--------+---------+----------+--------------+-----------------+------------+--------------------------+--------------+-----------------+----+-----------------+-----------------+-------------------------+----------------------------+-----------------------+-----------------------+--------+------------------+\n",
            "|            52|                  E|2019|2019-09-06|  17|        1| South West|                 1|     Isles of Scilly|    A3112|    Major|                   A3111|                 A3110|  91203|   10217|49.912239|-6.3028477|           2.0|             1.24|           6|                         1|            16|                0|   8|                0|                0|                        0|                           0|                      0|                      0|       0|                25|\n",
            "|            52|                  E|2019|2019-09-06|  12|        1| South West|                 1|     Isles of Scilly|    A3112|    Major|                   A3111|                 A3110|  91203|   10217|49.912239|-6.3028477|           2.0|             1.24|           9|                         1|            28|                0|   8|                0|                0|                        0|                           0|                      0|                      0|       0|                37|\n",
            "|            52|                  E|2019|2019-09-06|  14|        1| South West|                 1|     Isles of Scilly|    A3112|    Major|                   A3111|                 A3110|  91203|   10217|49.912239|-6.3028477|           2.0|             1.24|           7|                         0|            18|                0|   9|                0|                0|                        0|                           0|                      0|                      0|       0|                27|\n",
            "|            52|                  W|2019|2019-09-06|  14|        1| South West|                 1|     Isles of Scilly|    A3112|    Major|                   A3111|                 A3110|  91203|   10217|49.912239|-6.3028477|           2.0|             1.24|           3|                         1|            20|                1|  11|                0|                0|                        0|                           0|                      0|                      0|       0|                33|\n",
            "|            52|                  W|2019|2019-09-06|  12|        1| South West|                 1|     Isles of Scilly|    A3112|    Major|                   A3111|                 A3110|  91203|   10217|49.912239|-6.3028477|           2.0|             1.24|           3|                         0|            19|                1|   9|                0|                0|                        0|                           0|                      0|                      0|       0|                29|\n",
            "|            52|                  W|2019|2019-09-06|  17|        1| South West|                 1|     Isles of Scilly|    A3112|    Major|                   A3111|                 A3110|  91203|   10217|49.912239|-6.3028477|           2.0|             1.24|           4|                         2|             8|                1|  12|                0|                0|                        0|                           0|                      0|                      0|       0|                23|\n",
            "|            52|                  W|2019|2019-09-06|  18|        1| South West|                 1|     Isles of Scilly|    A3112|    Major|                   A3111|                 A3110|  91203|   10217|49.912239|-6.3028477|           2.0|             1.24|           4|                         0|            13|                0|   6|                0|                0|                        0|                           0|                      0|                      0|       0|                19|\n",
            "|            52|                  E|2019|2019-09-06|   9|        1| South West|                 1|     Isles of Scilly|    A3112|    Major|                   A3111|                 A3110|  91203|   10217|49.912239|-6.3028477|           2.0|             1.24|           4|                         0|            19|                0|  12|                1|                0|                        0|                           0|                      0|                      0|       1|                32|\n",
            "|            52|                  W|2019|2019-09-06|  10|        1| South West|                 1|     Isles of Scilly|    A3112|    Major|                   A3111|                 A3110|  91203|   10217|49.912239|-6.3028477|           2.0|             1.24|           3|                         1|            24|                1|  12|                0|                0|                        0|                           0|                      0|                      0|       0|                38|\n",
            "|            52|                  E|2019|2019-09-06|   8|        1| South West|                 1|     Isles of Scilly|    A3112|    Major|                   A3111|                 A3110|  91203|   10217|49.912239|-6.3028477|           2.0|             1.24|           4|                         1|             9|                0|   7|                0|                0|                        0|                           0|                      0|                      0|       0|                17|\n",
            "|            52|                  E|2019|2019-09-06|  18|        1| South West|                 1|     Isles of Scilly|    A3112|    Major|                   A3111|                 A3110|  91203|   10217|49.912239|-6.3028477|           2.0|             1.24|           0|                         1|            10|                0|   3|                0|                0|                        0|                           0|                      0|                      0|       0|                14|\n",
            "|            52|                  W|2019|2019-09-06|  15|        1| South West|                 1|     Isles of Scilly|    A3112|    Major|                   A3111|                 A3110|  91203|   10217|49.912239|-6.3028477|           2.0|             1.24|           5|                         1|            27|                1|  22|                0|                0|                        0|                           0|                      0|                      0|       0|                51|\n",
            "|            52|                  E|2019|2019-09-06|  13|        1| South West|                 1|     Isles of Scilly|    A3112|    Major|                   A3111|                 A3110|  91203|   10217|49.912239|-6.3028477|           2.0|             1.24|           8|                         0|            22|                0|   6|                0|                0|                        0|                           0|                      0|                      0|       0|                28|\n",
            "|            52|                  E|2019|2019-09-06|  10|        1| South West|                 1|     Isles of Scilly|    A3112|    Major|                   A3111|                 A3110|  91203|   10217|49.912239|-6.3028477|           2.0|             1.24|           7|                         1|            20|                0|   7|                2|                0|                        0|                           0|                      0|                      0|       2|                30|\n",
            "|            52|                  W|2019|2019-09-06|  16|        1| South West|                 1|     Isles of Scilly|    A3112|    Major|                   A3111|                 A3110|  91203|   10217|49.912239|-6.3028477|           2.0|             1.24|           6|                         2|            17|                1|  16|                0|                0|                        0|                           0|                      0|                      0|       0|                36|\n",
            "|            52|                  E|2019|2019-09-06|  11|        1| South West|                 1|     Isles of Scilly|    A3112|    Major|                   A3111|                 A3110|  91203|   10217|49.912239|-6.3028477|           2.0|             1.24|           8|                         2|            14|                0|   7|                0|                0|                        0|                           0|                      0|                      0|       0|                23|\n",
            "|            52|                  E|2019|2019-09-06|   7|        1| South West|                 1|     Isles of Scilly|    A3112|    Major|                   A3111|                 A3110|  91203|   10217|49.912239|-6.3028477|           2.0|             1.24|           3|                         1|             4|                0|   4|                0|                0|                        0|                           0|                      0|                      0|       0|                 9|\n",
            "|            52|                  W|2019|2019-09-06|   7|        1| South West|                 1|     Isles of Scilly|    A3112|    Major|                   A3111|                 A3110|  91203|   10217|49.912239|-6.3028477|           2.0|             1.24|           4|                         0|            10|                0|   6|                0|                0|                        0|                           0|                      0|                      0|       0|                16|\n",
            "|            52|                  W|2019|2019-09-06|   8|        1| South West|                 1|     Isles of Scilly|    A3112|    Major|                   A3111|                 A3110|  91203|   10217|49.912239|-6.3028477|           2.0|             1.24|          41|                         2|            33|                0|  10|                0|                0|                        0|                           0|                      0|                      0|       0|                45|\n",
            "|            52|                  W|2019|2019-09-06|  13|        1| South West|                 1|     Isles of Scilly|    A3112|    Major|                   A3111|                 A3110|  91203|   10217|49.912239|-6.3028477|           2.0|             1.24|           3|                         0|            15|                0|  11|                1|                0|                        0|                           0|                      0|                      0|       1|                27|\n",
            "+--------------+-------------------+----+----------+----+---------+-----------+------------------+--------------------+---------+---------+------------------------+----------------------+-------+--------+---------+----------+--------------+-----------------+------------+--------------------------+--------------+-----------------+----+-----------------+-----------------+-------------------------+----------------------------+-----------------------+-----------------------+--------+------------------+\n",
            "only showing top 20 rows\n",
            "\n"
          ]
        }
      ]
    },
    {
      "cell_type": "code",
      "source": [
        "# Check the history of the Delta table\n",
        "delta_table_history = spark.sql(f\"DESCRIBE HISTORY delta.`{delta_path}`\")\n",
        "delta_table_history.show(truncate=False)"
      ],
      "metadata": {
        "colab": {
          "base_uri": "https://localhost:8080/"
        },
        "id": "TC0Gund75tgD",
        "outputId": "b0b89f75-bf43-4790-ac71-d7cb3b73db7c"
      },
      "execution_count": 6,
      "outputs": [
        {
          "output_type": "stream",
          "name": "stdout",
          "text": [
            "+-------+-----------------------+------+--------+---------+------------------------------------------+----+--------+---------+-----------+--------------+-------------+--------------------------------------------------------------+------------+-----------------------------------+\n",
            "|version|timestamp              |userId|userName|operation|operationParameters                       |job |notebook|clusterId|readVersion|isolationLevel|isBlindAppend|operationMetrics                                              |userMetadata|engineInfo                         |\n",
            "+-------+-----------------------+------+--------+---------+------------------------------------------+----+--------+---------+-----------+--------------+-------------+--------------------------------------------------------------+------------+-----------------------------------+\n",
            "|0      |2024-09-27 05:14:23.552|NULL  |NULL    |WRITE    |{mode -> ErrorIfExists, partitionBy -> []}|NULL|NULL    |NULL     |NULL       |Serializable  |true         |{numFiles -> 1, numOutputRows -> 449, numOutputBytes -> 22531}|NULL        |Apache-Spark/3.5.3 Delta-Lake/3.2.1|\n",
            "+-------+-----------------------+------+--------+---------+------------------------------------------+----+--------+---------+-----------+--------------+-------------+--------------------------------------------------------------+------------+-----------------------------------+\n",
            "\n"
          ]
        }
      ]
    },
    {
      "cell_type": "code",
      "source": [
        "# Vacuum the Delta table to remove old files\n",
        "spark.sql(f\"VACUUM delta.`{delta_path}` RETAIN 168 HOURS\")"
      ],
      "metadata": {
        "colab": {
          "base_uri": "https://localhost:8080/"
        },
        "id": "kg5QcbwK6C3c",
        "outputId": "31089843-237d-449b-bd19-9f047863bf10"
      },
      "execution_count": 7,
      "outputs": [
        {
          "output_type": "execute_result",
          "data": {
            "text/plain": [
              "DataFrame[path: string]"
            ]
          },
          "metadata": {},
          "execution_count": 7
        }
      ]
    },
    {
      "cell_type": "code",
      "source": [
        "# Check the history of the Delta table\n",
        "delta_table_history = spark.sql(f\"DESCRIBE HISTORY delta.`{delta_path}`\")\n",
        "delta_table_history.show(truncate=False)"
      ],
      "metadata": {
        "colab": {
          "base_uri": "https://localhost:8080/"
        },
        "id": "PGTtpyWx63sM",
        "outputId": "8d9cf3ec-508d-4243-eef4-d3e5ffe009ac"
      },
      "execution_count": 8,
      "outputs": [
        {
          "output_type": "stream",
          "name": "stdout",
          "text": [
            "+-------+-----------------------+------+--------+------------+-----------------------------------------------------------------------------------------------------------+----+--------+---------+-----------+-----------------+-------------+--------------------------------------------------------------+------------+-----------------------------------+\n",
            "|version|timestamp              |userId|userName|operation   |operationParameters                                                                                        |job |notebook|clusterId|readVersion|isolationLevel   |isBlindAppend|operationMetrics                                              |userMetadata|engineInfo                         |\n",
            "+-------+-----------------------+------+--------+------------+-----------------------------------------------------------------------------------------------------------+----+--------+---------+-----------+-----------------+-------------+--------------------------------------------------------------+------------+-----------------------------------+\n",
            "|2      |2024-09-27 05:18:54.717|NULL  |NULL    |VACUUM END  |{status -> COMPLETED}                                                                                      |NULL|NULL    |NULL     |1          |SnapshotIsolation|true         |{numDeletedFiles -> 0, numVacuumedDirectories -> 1}           |NULL        |Apache-Spark/3.5.3 Delta-Lake/3.2.1|\n",
            "|1      |2024-09-27 05:18:46.698|NULL  |NULL    |VACUUM START|{retentionCheckEnabled -> true, defaultRetentionMillis -> 604800000, specifiedRetentionMillis -> 604800000}|NULL|NULL    |NULL     |0          |SnapshotIsolation|true         |{numFilesToDelete -> 0, sizeOfDataToDelete -> 0}              |NULL        |Apache-Spark/3.5.3 Delta-Lake/3.2.1|\n",
            "|0      |2024-09-27 05:14:23.552|NULL  |NULL    |WRITE       |{mode -> ErrorIfExists, partitionBy -> []}                                                                 |NULL|NULL    |NULL     |NULL       |Serializable     |true         |{numFiles -> 1, numOutputRows -> 449, numOutputBytes -> 22531}|NULL        |Apache-Spark/3.5.3 Delta-Lake/3.2.1|\n",
            "+-------+-----------------------+------+--------+------------+-----------------------------------------------------------------------------------------------------------+----+--------+---------+-----------+-----------------+-------------+--------------------------------------------------------------+------------+-----------------------------------+\n",
            "\n"
          ]
        }
      ]
    },
    {
      "cell_type": "code",
      "source": [
        "# 1. How can you filter the data to show only records from the year 2019?\n",
        "\n",
        "records_2019 = delta_df.filter(delta_df[\"year\"] == 2019)\n",
        "\n",
        "records_2019.show(5)"
      ],
      "metadata": {
        "colab": {
          "base_uri": "https://localhost:8080/"
        },
        "id": "KdVl3OhILjbX",
        "outputId": "d84aedc0-04b9-41fb-f9b1-64e7253fcf87"
      },
      "execution_count": 10,
      "outputs": [
        {
          "output_type": "stream",
          "name": "stdout",
          "text": [
            "+--------------+-------------------+----+----------+----+---------+-----------+------------------+--------------------+---------+---------+------------------------+----------------------+-------+--------+---------+----------+--------------+-----------------+------------+--------------------------+--------------+-----------------+----+-----------------+-----------------+-------------------------+----------------------------+-----------------------+-----------------------+--------+------------------+\n",
            "|count_point_id|direction_of_travel|year|count_date|hour|region_id|region_name|local_authority_id|local_authority_name|road_name|road_type|start_junction_road_name|end_junction_road_name|easting|northing| latitude| longitude|link_length_km|link_length_miles|pedal_cycles|two_wheeled_motor_vehicles|cars_and_taxis|buses_and_coaches|lgvs|hgvs_2_rigid_axle|hgvs_3_rigid_axle|hgvs_4_or_more_rigid_axle|hgvs_3_or_4_articulated_axle|hgvs_5_articulated_axle|hgvs_6_articulated_axle|all_hgvs|all_motor_vehicles|\n",
            "+--------------+-------------------+----+----------+----+---------+-----------+------------------+--------------------+---------+---------+------------------------+----------------------+-------+--------+---------+----------+--------------+-----------------+------------+--------------------------+--------------+-----------------+----+-----------------+-----------------+-------------------------+----------------------------+-----------------------+-----------------------+--------+------------------+\n",
            "|            52|                  E|2019|2019-09-06|  17|        1| South West|                 1|     Isles of Scilly|    A3112|    Major|                   A3111|                 A3110|  91203|   10217|49.912239|-6.3028477|           2.0|             1.24|           6|                         1|            16|                0|   8|                0|                0|                        0|                           0|                      0|                      0|       0|                25|\n",
            "|            52|                  E|2019|2019-09-06|  12|        1| South West|                 1|     Isles of Scilly|    A3112|    Major|                   A3111|                 A3110|  91203|   10217|49.912239|-6.3028477|           2.0|             1.24|           9|                         1|            28|                0|   8|                0|                0|                        0|                           0|                      0|                      0|       0|                37|\n",
            "|            52|                  E|2019|2019-09-06|  14|        1| South West|                 1|     Isles of Scilly|    A3112|    Major|                   A3111|                 A3110|  91203|   10217|49.912239|-6.3028477|           2.0|             1.24|           7|                         0|            18|                0|   9|                0|                0|                        0|                           0|                      0|                      0|       0|                27|\n",
            "|            52|                  W|2019|2019-09-06|  14|        1| South West|                 1|     Isles of Scilly|    A3112|    Major|                   A3111|                 A3110|  91203|   10217|49.912239|-6.3028477|           2.0|             1.24|           3|                         1|            20|                1|  11|                0|                0|                        0|                           0|                      0|                      0|       0|                33|\n",
            "|            52|                  W|2019|2019-09-06|  12|        1| South West|                 1|     Isles of Scilly|    A3112|    Major|                   A3111|                 A3110|  91203|   10217|49.912239|-6.3028477|           2.0|             1.24|           3|                         0|            19|                1|   9|                0|                0|                        0|                           0|                      0|                      0|       0|                29|\n",
            "+--------------+-------------------+----+----------+----+---------+-----------+------------------+--------------------+---------+---------+------------------------+----------------------+-------+--------+---------+----------+--------------+-----------------+------------+--------------------------+--------------+-----------------+----+-----------------+-----------------+-------------------------+----------------------------+-----------------------+-----------------------+--------+------------------+\n",
            "only showing top 5 rows\n",
            "\n"
          ]
        }
      ]
    },
    {
      "cell_type": "code",
      "source": [
        "# 2. How can you calculate the total number of vehicles (all motor vehicles) for each road?\n",
        "# Group by road name and sum the 'all_motor_vehicles' column\n",
        "total_vehicles_per_road = delta_df.groupBy(\"road_name\").sum(\"all_motor_vehicles\")\n",
        "\n",
        "total_vehicles_per_road.show(5)"
      ],
      "metadata": {
        "colab": {
          "base_uri": "https://localhost:8080/"
        },
        "id": "kE_eqrhcLRCS",
        "outputId": "c6292ab1-65ea-487f-d915-4c1de079fed6"
      },
      "execution_count": 11,
      "outputs": [
        {
          "output_type": "stream",
          "name": "stdout",
          "text": [
            "+---------+-----------------------+\n",
            "|road_name|sum(all_motor_vehicles)|\n",
            "+---------+-----------------------+\n",
            "|     A420|                  11772|\n",
            "|       M4|                  52850|\n",
            "|     A380|                  36810|\n",
            "|     A371|                   4956|\n",
            "|     A388|                   3591|\n",
            "+---------+-----------------------+\n",
            "only showing top 5 rows\n",
            "\n"
          ]
        }
      ]
    },
    {
      "cell_type": "code",
      "source": [
        "# 3. How can you count the number of rows where the number of cars and taxis is greater than 20?\n",
        "# Filter rows where 'cars_and_taxis' > 20 and count the number of such rows\n",
        "cars_taxis_gt_20 = delta_df.filter(delta_df[\"cars_and_taxis\"] > 20).count()\n",
        "\n",
        "print(f\"Number of rows where cars and taxis > 20: {cars_taxis_gt_20}\")"
      ],
      "metadata": {
        "colab": {
          "base_uri": "https://localhost:8080/"
        },
        "id": "YTYvNB_cMHij",
        "outputId": "bab79312-eeec-4bca-c841-4f8c9d71542d"
      },
      "execution_count": 13,
      "outputs": [
        {
          "output_type": "stream",
          "name": "stdout",
          "text": [
            "Number of rows where cars and taxis > 20: 417\n"
          ]
        }
      ]
    },
    {
      "cell_type": "code",
      "source": [
        "# 4. How can you find the average number of pedal cycles per region?\n",
        "\n",
        "avg_pedal_cycles_per_region = delta_df.groupBy(\"region_name\").avg(\"pedal_cycles\")\n",
        "avg_pedal_cycles_per_region.show(5)"
      ],
      "metadata": {
        "colab": {
          "base_uri": "https://localhost:8080/"
        },
        "id": "igmCPDK9MTYu",
        "outputId": "55a8644b-1b43-4d23-8a66-7be1046f7c36"
      },
      "execution_count": 14,
      "outputs": [
        {
          "output_type": "stream",
          "name": "stdout",
          "text": [
            "+-----------+------------------+\n",
            "|region_name| avg(pedal_cycles)|\n",
            "+-----------+------------------+\n",
            "| South West|2.9866369710467704|\n",
            "+-----------+------------------+\n",
            "\n"
          ]
        }
      ]
    },
    {
      "cell_type": "code",
      "source": [
        "# 5. How can you sort the data by the number of heavy goods vehicles (all_hgvs) in descending order?\n",
        "\n",
        "sorted_hgvs = delta_df.orderBy(delta_df[\"all_hgvs\"].desc())\n",
        "\n",
        "sorted_hgvs.show(5)"
      ],
      "metadata": {
        "colab": {
          "base_uri": "https://localhost:8080/"
        },
        "id": "4lBsmhINMc25",
        "outputId": "935c60bb-3e44-4473-a12b-4489d3f6f64b"
      },
      "execution_count": 15,
      "outputs": [
        {
          "output_type": "stream",
          "name": "stdout",
          "text": [
            "+--------------+-------------------+----+----------+----+---------+-----------+------------------+--------------------+---------+---------+------------------------+----------------------+-------+--------+---------+---------+--------------+-----------------+------------+--------------------------+--------------+-----------------+----+-----------------+-----------------+-------------------------+----------------------------+-----------------------+-----------------------+--------+------------------+\n",
            "|count_point_id|direction_of_travel|year|count_date|hour|region_id|region_name|local_authority_id|local_authority_name|road_name|road_type|start_junction_road_name|end_junction_road_name|easting|northing| latitude|longitude|link_length_km|link_length_miles|pedal_cycles|two_wheeled_motor_vehicles|cars_and_taxis|buses_and_coaches|lgvs|hgvs_2_rigid_axle|hgvs_3_rigid_axle|hgvs_4_or_more_rigid_axle|hgvs_3_or_4_articulated_axle|hgvs_5_articulated_axle|hgvs_6_articulated_axle|all_hgvs|all_motor_vehicles|\n",
            "+--------------+-------------------+----+----------+----+---------+-----------+------------------+--------------------+---------+---------+------------------------+----------------------+-------+--------+---------+---------+--------------+-----------------+------------+--------------------------+--------------+-----------------+----+-----------------+-----------------+-------------------------+----------------------------+-----------------------+-----------------------+--------+------------------+\n",
            "|          6019|                  S|2019|2019-06-17|   7|        1| South West|                70|     Gloucestershire|       M5|    Major|                      11|                    10| 389660|  223200|51.907239| -2.15171|           4.7|             2.92|           0|                        10|          2860|                4| 911|              180|               34|                       15|                          18|                     18|                    301|     566|              4351|\n",
            "|          6019|                  N|2019|2019-06-17|  10|        1| South West|                70|     Gloucestershire|       M5|    Major|                      11|                    10| 389660|  223200|51.907239| -2.15171|           4.7|             2.92|           0|                         4|          1891|               15| 364|              125|               23|                       25|                          15|                     42|                    252|     482|              2756|\n",
            "|          6019|                  N|2019|2019-06-17|  13|        1| South West|                70|     Gloucestershire|       M5|    Major|                      11|                    10| 389660|  223200|51.907239| -2.15171|           4.7|             2.92|           0|                         8|          2246|               12| 539|              125|               21|                       14|                          18|                     30|                    269|     477|              3282|\n",
            "|          6019|                  S|2019|2019-06-17|  10|        1| South West|                70|     Gloucestershire|       M5|    Major|                      11|                    10| 389660|  223200|51.907239| -2.15171|           4.7|             2.92|           0|                         2|          2651|               15| 519|              133|               14|                       13|                          17|                     35|                    250|     462|              3649|\n",
            "|          6019|                  N|2019|2019-06-17|  12|        1| South West|                70|     Gloucestershire|       M5|    Major|                      11|                    10| 389660|  223200|51.907239| -2.15171|           4.7|             2.92|           0|                         4|          2285|                8| 460|              135|               23|                        7|                           9|                     35|                    252|     461|              3218|\n",
            "+--------------+-------------------+----+----------+----+---------+-----------+------------------+--------------------+---------+---------+------------------------+----------------------+-------+--------+---------+---------+--------------+-----------------+------------+--------------------------+--------------+-----------------+----+-----------------+-----------------+-------------------------+----------------------------+-----------------------+-----------------------+--------+------------------+\n",
            "only showing top 5 rows\n",
            "\n"
          ]
        }
      ]
    },
    {
      "cell_type": "code",
      "source": [
        "delta_df.count()"
      ],
      "metadata": {
        "colab": {
          "base_uri": "https://localhost:8080/"
        },
        "id": "wNPZwGV9MqR4",
        "outputId": "a56132eb-dac4-489d-e316-78567c0eb79f"
      },
      "execution_count": 16,
      "outputs": [
        {
          "output_type": "execute_result",
          "data": {
            "text/plain": [
              "449"
            ]
          },
          "metadata": {},
          "execution_count": 16
        }
      ]
    }
  ]
}
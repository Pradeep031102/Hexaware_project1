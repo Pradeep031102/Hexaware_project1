{
 "cells": [
  {
   "cell_type": "code",
   "execution_count": 0,
   "metadata": {
    "application/vnd.databricks.v1+cell": {
     "cellMetadata": {},
     "inputWidgets": {},
     "nuid": "b9e0f0e2-51ae-48c6-9ade-0c763b9fc4f6",
     "showTitle": false,
     "title": ""
    }
   },
   "outputs": [],
   "source": [
    "try:\n",
    "    from pyspark.sql.functions import col, when\n",
    "    \n",
    "    df_filtered = spark.read.format(\"delta\").load(\"/delta/traffic_data_filtered\")\n",
    "    print(\"Data loaded successfully.\")\n",
    "\n",
    "    df_transformed = df_filtered.withColumn(\"traffic_level\", \n",
    "        when(col(\"cars_and_taxis\") > 20, \"High\")\n",
    "        .when(col(\"cars_and_taxis\").between(10, 20), \"Medium\")\n",
    "        .otherwise(\"Low\"))\n",
    "    print(\"New traffic level column created.\")\n",
    "    \n",
    "    df_final = df_transformed.select(\"count_point_id\", \"direction_of_travel\", \"traffic_level\", \"year\", \"count_date\")\n",
    "    print(\"Selected relevant columns.\")\n",
    "    \n",
    "    df_final.show()\n",
    "\n",
    "    df_final.write.format(\"delta\").mode(\"overwrite\").save(\"/delta/traffic_data_transformed\")\n",
    "    print(\"Data saved successfully.\")\n",
    "\n",
    "except Exception as e:\n",
    "    print(f\"An error occurred during data transformation: {e}\")"
   ]
  }
 ],
 "metadata": {
  "application/vnd.databricks.v1+notebook": {
   "dashboards": [],
   "environmentMetadata": null,
   "language": "python",
   "notebookMetadata": {
    "pythonIndentUnit": 4
   },
   "notebookName": "04_data_transformation",
   "widgets": {}
  }
 },
 "nbformat": 4,
 "nbformat_minor": 0
}

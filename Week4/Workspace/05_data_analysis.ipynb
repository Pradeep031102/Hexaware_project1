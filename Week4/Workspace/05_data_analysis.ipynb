{
 "cells": [
  {
   "cell_type": "code",
   "execution_count": 0,
   "metadata": {
    "application/vnd.databricks.v1+cell": {
     "cellMetadata": {},
     "inputWidgets": {},
     "nuid": "cdf62c2c-61c9-46d5-914f-2c6c3684bb0a",
     "showTitle": false,
     "title": ""
    }
   },
   "outputs": [],
   "source": [
    "try:\n",
    "    df_final = spark.read.format(\"delta\").load(\"/delta/traffic_data_transformed\")\n",
    "    print(\"Data loaded successfully.\")\n",
    "\n",
    "    analysis_result = df_final.groupBy(\"traffic_level\").agg({\n",
    "        \"count_point_id\": \"count\", \n",
    "        \"year\": \"max\"\n",
    "    }).withColumnRenamed(\"count\", \"count_of_entries\").withColumnRenamed(\"max(year)\", \"latest_year\")\n",
    "    print(\"Data analysis completed.\")\n",
    "    \n",
    "    analysis_result.show()\n",
    "\n",
    "    analysis_result.write.format(\"delta\").mode(\"overwrite\").save(\"/delta/traffic_data_analysis\")\n",
    "    print(\"Data analysis saved successfully.\")\n",
    "\n",
    "except Exception as e:\n",
    "    print(f\"An error occurred during data analysis: {e}\")"
   ]
  }
 ],
 "metadata": {
  "application/vnd.databricks.v1+notebook": {
   "dashboards": [],
   "environmentMetadata": null,
   "language": "python",
   "notebookMetadata": {
    "pythonIndentUnit": 4
   },
   "notebookName": "05_data_analysis",
   "widgets": {}
  }
 },
 "nbformat": 4,
 "nbformat_minor": 0
}

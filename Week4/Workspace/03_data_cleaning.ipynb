{
 "cells": [
  {
   "cell_type": "code",
   "execution_count": 0,
   "metadata": {
    "application/vnd.databricks.v1+cell": {
     "cellMetadata": {},
     "inputWidgets": {},
     "nuid": "7d82228a-e4e6-4ec7-a992-c125697d4b41",
     "showTitle": false,
     "title": ""
    }
   },
   "outputs": [],
   "source": [
    "try:\n",
    "    df = spark.read.format(\"delta\").load(\"/delta/traffic_data\")\n",
    "    print(\"Data loaded successfully.\")\n",
    "    \n",
    "    df_cleaned = df.dropna()\n",
    "    print(\"Missing values handled.\")\n",
    "    \n",
    "    df_cleaned = df_cleaned.dropDuplicates()\n",
    "    print(\"Duplicates removed.\")\n",
    "    \n",
    "    df_filtered = df_cleaned.filter(df_cleaned['cars_and_taxis'] > 10)\n",
    "    print(\"Data filtered based on the condition.\")\n",
    "    \n",
    "    df_filtered.show()\n",
    "\n",
    "    df_filtered.write.format(\"delta\").mode(\"overwrite\").save(\"/delta/traffic_data_filtered\")\n",
    "    print(\"Data saved to the Delta table.\")\n",
    "\n",
    "except Exception as e:\n",
    "    print(f\"An error occurred during data cleaning: {e}\")"
   ]
  }
 ],
 "metadata": {
  "application/vnd.databricks.v1+notebook": {
   "dashboards": [],
   "environmentMetadata": null,
   "language": "python",
   "notebookMetadata": {
    "pythonIndentUnit": 4
   },
   "notebookName": "03_data_cleaning",
   "widgets": {}
  }
 },
 "nbformat": 4,
 "nbformat_minor": 0
}

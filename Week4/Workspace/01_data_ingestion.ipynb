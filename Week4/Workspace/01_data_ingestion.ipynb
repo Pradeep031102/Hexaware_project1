{
 "cells": [
  {
   "cell_type": "code",
   "execution_count": 0,
   "metadata": {
    "application/vnd.databricks.v1+cell": {
     "cellMetadata": {},
     "inputWidgets": {},
     "nuid": "15a3ce6b-9587-4ee7-85bc-162dba9f5191",
     "showTitle": false,
     "title": ""
    }
   },
   "outputs": [],
   "source": [
    "try:\n",
    "    dbutils.fs.cp(\"file:/Workspace/Shared/data.csv\", \"dbfs:/FileStore/data.csv\")\n",
    "    print(\"File copied successfully.\")\n",
    "    \n",
    "    df = spark.read.csv(\"dbfs:/FileStore/data.csv\", header=True, inferSchema=True)\n",
    "    print(\"File read successfully.\")\n",
    "    \n",
    "    df.show()\n",
    "\n",
    "    df.write.format(\"delta\").mode(\"overwrite\").save(\"/delta/traffic_data\")\n",
    "    print(\"Data written to Delta format successfully.\")\n",
    "\n",
    "except Exception as e:\n",
    "    print(f\"An error occurred: {e}\")"
   ]
  }
 ],
 "metadata": {
  "application/vnd.databricks.v1+notebook": {
   "dashboards": [],
   "environmentMetadata": null,
   "language": "python",
   "notebookMetadata": {
    "pythonIndentUnit": 4
   },
   "notebookName": "01_data_ingestion",
   "widgets": {}
  }
 },
 "nbformat": 4,
 "nbformat_minor": 0
}

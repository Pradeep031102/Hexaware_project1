{
 "cells": [
  {
   "cell_type": "code",
   "execution_count": 0,
   "metadata": {
    "application/vnd.databricks.v1+cell": {
     "cellMetadata": {},
     "inputWidgets": {},
     "nuid": "ca3a560a-b036-4fdf-b0f9-d74a69865076",
     "showTitle": false,
     "title": ""
    }
   },
   "outputs": [],
   "source": [
    "try:\n",
    "    import matplotlib.pyplot as plt\n",
    "\n",
    "    analysis_result = spark.read.format(\"delta\").load(\"/delta/traffic_data_analysis\")\n",
    "    print(\"Data loaded successfully.\")\n",
    "\n",
    "    pandas_df = analysis_result.toPandas()\n",
    "    \n",
    "    plt.bar(pandas_df['traffic_level'], pandas_df['count_of_entries'], color=['blue', 'orange', 'green'])\n",
    "    plt.title('Count of Entries by Traffic Level')\n",
    "    plt.xlabel('Traffic Level')\n",
    "    plt.ylabel('Count of Entries')\n",
    "    plt.show()\n",
    "\n",
    "except Exception as e:\n",
    "    print(f\"An error occurred during data visualization: {e}\")"
   ]
  }
 ],
 "metadata": {
  "application/vnd.databricks.v1+notebook": {
   "dashboards": [],
   "environmentMetadata": null,
   "language": "python",
   "notebookMetadata": {
    "pythonIndentUnit": 4
   },
   "notebookName": "06_data_visualization",
   "widgets": {}
  }
 },
 "nbformat": 4,
 "nbformat_minor": 0
}

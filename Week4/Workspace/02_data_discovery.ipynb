{
 "cells": [
  {
   "cell_type": "code",
   "execution_count": 0,
   "metadata": {
    "application/vnd.databricks.v1+cell": {
     "cellMetadata": {},
     "inputWidgets": {},
     "nuid": "6dd813e3-589a-48c8-9633-d134c46634af",
     "showTitle": false,
     "title": ""
    }
   },
   "outputs": [],
   "source": [
    "try:\n",
    "    df = spark.read.format(\"delta\").load(\"/delta/traffic_data\")\n",
    "    print(\"Data loaded successfully.\")\n",
    "    \n",
    "    df.printSchema()\n",
    "    \n",
    "    df.describe().show()\n",
    "    \n",
    "    df.show()\n",
    "    \n",
    "    record_count = df.count()\n",
    "    print(f\"Total records: {record_count}\")\n",
    "\n",
    "except Exception as e:\n",
    "    print(f\"An error occurred during data exploration: {e}\")"
   ]
  }
 ],
 "metadata": {
  "application/vnd.databricks.v1+notebook": {
   "dashboards": [],
   "environmentMetadata": null,
   "language": "python",
   "notebookMetadata": {
    "pythonIndentUnit": 4
   },
   "notebookName": "02_data_discovery",
   "widgets": {}
  }
 },
 "nbformat": 4,
 "nbformat_minor": 0
}
